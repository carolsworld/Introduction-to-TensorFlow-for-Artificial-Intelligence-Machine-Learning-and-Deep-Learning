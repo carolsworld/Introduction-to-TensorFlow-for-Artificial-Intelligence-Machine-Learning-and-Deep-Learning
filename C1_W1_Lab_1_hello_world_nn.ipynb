{
  "cells": [
    {
      "cell_type": "markdown",
      "metadata": {
        "id": "view-in-github",
        "colab_type": "text"
      },
      "source": [
        "<a href=\"https://colab.research.google.com/github/carolsworld/Introduction-to-TensorFlow-for-Artificial-Intelligence-Machine-Learning-and-Deep-Learning/blob/main/C1_W1_Lab_1_hello_world_nn.ipynb\" target=\"_parent\"><img src=\"https://colab.research.google.com/assets/colab-badge.svg\" alt=\"Open In Colab\"/></a>"
      ]
    },
    {
      "cell_type": "markdown",
      "metadata": {
        "id": "AEaDt0Eq8hCk"
      },
      "source": [
        "<a href=\"https://colab.research.google.com/github/https-deeplearning-ai/tensorflow-1-public/blob/master/C1/W1/ungraded_lab/C1_W1_Lab_1_hello_world_nn.ipynb\" target=\"_parent\"><img src=\"https://colab.research.google.com/assets/colab-badge.svg\" alt=\"Open In Colab\"/></a>"
      ]
    },
    {
      "cell_type": "markdown",
      "metadata": {
        "id": "ZIAkIlfmCe1B"
      },
      "source": [
        "# Ungraded Lab: The Hello World of Deep Learning with Neural Networks"
      ]
    },
    {
      "cell_type": "markdown",
      "metadata": {
        "id": "fA93WUy1zzWf"
      },
      "source": [
        "Like every first app, you should start with something super simple that shows the overall scaffolding for how your code works. In the case of creating neural networks, one simple case is where it learns the relationship between two numbers. So, for example, if you were writing code for a function like this, you already know the 'rules': \n",
        "\n",
        "\n",
        "```\n",
        "def hw_function(x):\n",
        "    y = (2 * x) - 1\n",
        "    return y\n",
        "```\n",
        "\n",
        "So how would you train a neural network to do the equivalent task? By using data! By feeding it with a set of x's and y's, it should be able to figure out the relationship between them. \n",
        "\n",
        "This is obviously a very different paradigm from what you might be used to. So let's step through it piece by piece.\n"
      ]
    },
    {
      "cell_type": "markdown",
      "metadata": {
        "id": "DzbtdRcZDO9B"
      },
      "source": [
        "## Imports\n",
        "\n",
        "Let's start with the imports. Here, you are importing [TensorFlow](https://www.tensorflow.org/) and calling it `tf` for convention and ease of use.\n",
        "\n",
        "You then import a library called [`numpy`](https://numpy.org) which helps to represent data as arrays easily and to optimize numerical operations.\n",
        "\n",
        "The framework you will use to build a neural network as a sequence of layers is called [`keras`](https://keras.io/) so you will import that too.\n"
      ]
    },
    {
      "cell_type": "code",
      "execution_count": null,
      "metadata": {
        "id": "X9uIpOS2zx7k"
      },
      "outputs": [],
      "source": [
        "import tensorflow as tf\n",
        "import numpy as np\n",
        "from tensorflow import keras\n",
        "\n",
        "print(tf.__version__)"
      ]
    },
    {
      "cell_type": "markdown",
      "metadata": {
        "id": "wwJGmDrQ0EoB"
      },
      "source": [
        "## Define and Compile the Neural Network\n",
        "\n",
        "Next, you will create the simplest possible neural network. It has 1 layer with 1 neuron, and the input shape to it is just 1 value. You will build this model using Keras' [Sequential](https://keras.io/api/models/sequential/) class which allows you to define the network as a sequence of [layers](https://keras.io/api/layers/). You can use a single [Dense](https://keras.io/api/layers/core_layers/dense/) layer to build this simple network as shown below."
      ]
    },
    {
      "cell_type": "code",
      "execution_count": null,
      "metadata": {
        "id": "kQFAr_xo0M4T"
      },
      "outputs": [],
      "source": [
        "# Build a simple Sequential model\n",
        "model = tf.keras.Sequential([keras.layers.Dense(units=1, input_shape=[1])])"
      ]
    },
    {
      "cell_type": "markdown",
      "metadata": {
        "id": "KhjZjZ-c0Ok9"
      },
      "source": [
        "Now, you will compile the neural network. When you do so, you have to specify 2 functions: a [loss](https://keras.io/api/losses/) and an [optimizer](https://keras.io/api/optimizers/).\n",
        "\n",
        "If you've seen lots of math for machine learning, here's where it's usually used. But in this case, it's nicely encapsulated in functions and classes for you. But what happens here? Let's explain...\n",
        "\n",
        "You know that in the function declared at the start of this notebook, the relationship between the numbers is `y=2x-1`. When the computer is trying to 'learn' that, it makes a guess... maybe `y=10x+10`. The `loss` function measures the guessed answers against the known correct answers and measures how well or how badly it did.\n",
        "\n",
        "It then uses the `optimizer` function to make another guess. Based on how the loss function went, it will try to minimize the loss. At that point maybe it will come up with something like `y=5x+5`, which, while still pretty bad, is closer to the correct result (i.e. the loss is lower).\n",
        "\n",
        "It will repeat this for the number of _epochs_ which you will see shortly. But first, here's how you will tell it to use [mean squared error](https://keras.io/api/losses/regression_losses/#meansquarederror-function) for the loss and [stochastic gradient descent](https://keras.io/api/optimizers/sgd/) for the optimizer. You don't need to understand the math for these yet, but you can see that they work!\n",
        "\n",
        "Over time, you will learn the different and appropriate loss and optimizer functions for different scenarios. \n"
      ]
    },
    {
      "cell_type": "code",
      "execution_count": null,
      "metadata": {
        "id": "m8YQN1H41L-Y"
      },
      "outputs": [],
      "source": [
        "# Compile the model\n",
        "model.compile(optimizer='sgd', loss='mean_squared_error')"
      ]
    },
    {
      "cell_type": "markdown",
      "metadata": {
        "id": "5QyOUhFw1OUX"
      },
      "source": [
        "## Providing the Data\n",
        "\n",
        "Next up, you will feed in some data. In this case, you are taking 6 X's and 6 Y's. You can see that the relationship between these is `y=2x-1`, so where `x = -1`, `y=-3` etc. \n",
        "\n",
        "The de facto standard way of declaring model inputs and outputs is to use `numpy`, a Python library that provides lots of array type data structures. You can specify these values by building numpy arrays with [`np.array()`](https://numpy.org/doc/stable/reference/generated/numpy.array.html)."
      ]
    },
    {
      "cell_type": "code",
      "execution_count": null,
      "metadata": {
        "id": "4Dxk4q-jzEy4"
      },
      "outputs": [],
      "source": [
        "# Declare model inputs and outputs for training\n",
        "xs = np.array([-1.0,  0.0, 1.0, 2.0, 3.0, 4.0], dtype=float)\n",
        "ys = np.array([-3.0, -1.0, 1.0, 3.0, 5.0, 7.0], dtype=float)"
      ]
    },
    {
      "cell_type": "markdown",
      "metadata": {
        "id": "n_YcWRElnM_b"
      },
      "source": [
        "# Training the Neural Network\n",
        "\n",
        "The process of training the neural network, where it 'learns' the relationship between the x's and y's is in the [`model.fit()`](https://keras.io/api/models/model_training_apis/#fit-method)  call. This is where it will go through the loop we spoke about above: making a guess, measuring how good or bad it is (aka the loss), using the optimizer to make another guess etc. It will do it for the number of `epochs` you specify. When you run this code, you'll see the loss on the right hand side."
      ]
    },
    {
      "cell_type": "code",
      "execution_count": null,
      "metadata": {
        "id": "lpRrl7WK10Pq"
      },
      "outputs": [],
      "source": [
        "# Train the model\n",
        "model.fit(xs, ys, epochs=500)"
      ]
    },
    {
      "cell_type": "markdown",
      "metadata": {
        "id": "kaFIr71H2OZ-"
      },
      "source": [
        "Ok, now you have a model that has been trained to learn the relationship between `x` and `y`. You can use the [`model.predict()`](https://keras.io/api/models/model_training_apis/#predict-method) method to have it figure out the `y` for a previously unknown `x`. So, for example, if `x=10`, what do you think `y` will be? Take a guess before you run this code:"
      ]
    },
    {
      "cell_type": "code",
      "execution_count": null,
      "metadata": {
        "id": "oxNzL4lS2Gui"
      },
      "outputs": [],
      "source": [
        "# Make a prediction\n",
        "print(model.predict([10.0]))"
      ]
    },
    {
      "cell_type": "markdown",
      "metadata": {
        "id": "btF2CSFH2iEX"
      },
      "source": [
        "You might have thought `19`, right? But it ended up being a little under. Why do you think that is? \n",
        "\n",
        "Remember that neural networks deal with probabilities. So given the data that we fed the model with, it calculated that there is a very high probability that the relationship between `x` and `y` is `y=2x-1`, but with only 6 data points we can't know for sure. As a result, the result for 10 is very close to 19, but not necessarily 19.\n",
        "\n",
        "As you work with neural networks, you'll see this pattern recurring. You will almost always deal with probabilities, not certainties, and will do a little bit of coding to figure out what the result is based on the probabilities, particularly when it comes to classification.\n"
      ]
    },
    {
      "cell_type": "markdown",
      "source": [
        "1.\n",
        "Question 1\n",
        "What is the difference between traditional programming and Machine Learning?\n",
        "\n",
        "1 / 1 point\n",
        "\n",
        "Machine learning identifies complex activities such as golf, while traditional programming is better suited to simpler activities such as walking.\n",
        "\n",
        "\n",
        "In traditional programming, a programmer has to formulate or code rules manually, whereas, in Machine Learning, the algorithm automatically formulates the rules from the data.<--\n",
        "\n",
        "Correct\n",
        "Exactly! Machine learning algorithms build a model based on sample data, known as \"training data\", in order to make predictions or decisions without being explicitly programmed to do so.\n",
        "\n",
        "2.\n",
        "Question 2\n",
        "What do we call the process of telling the computer what the data represents (i.e. this data is for walking, this data is for running)?\n",
        "\n",
        "1 / 1 point\n",
        "\n",
        "Labelling the Data<--\n",
        "\n",
        "\n",
        "Learning the Data\n",
        "\n",
        "\n",
        "Programming the Data\n",
        "\n",
        "\n",
        "Categorizing the Data\n",
        "\n",
        "Correct\n",
        "Yes! Labeling typically takes a set of unlabeled data and augments each piece of it with informative tags.\n",
        "\n",
        "3.\n",
        "Question 3\n",
        "What is a Dense layer?\n",
        "\n",
        "1 / 1 point\n",
        "\n",
        "A layer of connected neurons<--\n",
        "\n",
        "\n",
        "An amount of mass occupying a volume\n",
        "\n",
        "\n",
        "A layer of disconnected neurons\n",
        "\n",
        "\n",
        "A single neuron\n",
        "\n",
        "Correct\n",
        "Correct! In Keras, dense is used to define a layer of connected neurons.\n",
        "\n",
        "4.\n",
        "Question 4\n",
        "How do you measure how good the current ‘guess’ is?\n",
        "\n",
        "1 / 1 point\n",
        "\n",
        "Using the Loss function<--\n",
        "\n",
        "\n",
        "Figuring out if you win or lose\n",
        "\n",
        "\n",
        "Training a neural network\n",
        "\n",
        "Correct\n",
        "Absolutely!  An optimization problem seeks to minimize a loss function.\n",
        "\n",
        "5.\n",
        "Question 5\n",
        "What does the optimizer do?\n",
        "\n",
        "1 / 1 point\n",
        "\n",
        "Measures how good the current guess is\n",
        "\n",
        "\n",
        "Generates a new and improved guess<--\n",
        "\n",
        "\n",
        "Figures out how to efficiently compile your code\n",
        "\n",
        "\n",
        "Decides to stop training a neural network\n",
        "\n",
        "Correct\n",
        "Nailed it! The optimizer figures out the next guess based on the loss function.\n",
        "\n",
        "6.\n",
        "Question 6\n",
        "What is Convergence?\n",
        "\n",
        "1 / 1 point\n",
        "\n",
        "An analysis that corresponds too closely or exactly to a particular set of data.\n",
        "\n",
        "\n",
        "A programming API for AI\n",
        "\n",
        "\n",
        "A dramatic increase in loss\n",
        "\n",
        "\n",
        "The process of getting very close to the correct answer<--\n",
        "\n",
        "Correct\n",
        "That’s right! Convergence is when guesses get better and better closing to a 100% accuracy.\n",
        "\n",
        "7.\n",
        "Question 7\n",
        "What does model.fit do?\n",
        "\n",
        "1 / 1 point\n",
        "\n",
        "It optimizes an existing model\n",
        "\n",
        "\n",
        "It determines if your activity is good for your body\n",
        "\n",
        "\n",
        "It trains the neural network to fit one set of values to another<--\n",
        "\n",
        "\n",
        "It makes a model fit available memory\n",
        "\n",
        "Correct\n",
        "Correct! The training takes place on the fit command."
      ],
      "metadata": {
        "id": "Dk_dfpoMASeB"
      }
    }
  ],
  "metadata": {
    "colab": {
      "private_outputs": true,
      "provenance": [],
      "toc_visible": true,
      "include_colab_link": true
    },
    "kernelspec": {
      "display_name": "Python 3",
      "language": "python",
      "name": "python3"
    },
    "language_info": {
      "codemirror_mode": {
        "name": "ipython",
        "version": 3
      },
      "file_extension": ".py",
      "mimetype": "text/x-python",
      "name": "python",
      "nbconvert_exporter": "python",
      "pygments_lexer": "ipython3",
      "version": "3.7.4"
    }
  },
  "nbformat": 4,
  "nbformat_minor": 0
}